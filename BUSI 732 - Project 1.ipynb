{
 "cells": [
  {
   "cell_type": "markdown",
   "metadata": {},
   "source": [
    "# <font color = 'blue' > BUSI 732 Quantitative Operations - Summer 2023 </font>\n",
    "## <font color = 'blue' > Angela Wilkins and Emma Zohner </font>"
   ]
  },
  {
   "cell_type": "markdown",
   "metadata": {},
   "source": [
    "## INTRODUCTION\n",
    "\n",
    "#### Course Schedule\n",
    "May 8 - June 23, 2023\n",
    "7-week course May 8 - June 23\n",
    "Two weekly on-campus class meetings, TTH 2:30-3:45p\n",
    "\n",
    "#### Course Objectives and Learning Outcomes\n",
    "\n",
    "This applied course focuses on data transformation and analytics in operations management. \n",
    "\n",
    "Data transformation is extracting good, reliable information from data sources. Data analytics is the process of examining data to find trends and draw conclusions. This involves converting data from one structure (or no structure) to another so you can integrate it with a data warehouse or with different applications. It allows you to expose the information to advanced tools to create valuable insights.\n",
    "\n",
    "The goal of this class will be to show that you \n",
    "- Understand the data,\n",
    "- Can map the data,\n",
    "- Can transform the data, and\n",
    "- Can answer a question about the data.\n",
    "\n",
    "The projects in this class are designed to push you to think critically and apply what you have learned through your graduate program. It allows you to show the faculty of the department what you’ve learned throughout the program and ensure that you're adequately prepared.\n",
    "\n",
    "What sets a project apart from just an exam is its real-world application. Rather than just proving you understand the subject matter, these projects will require you to apply the knowledge and experience in a way similar to how one would as a data analyst or scientist. \n",
    "\n",
    "This class will require you to:\n",
    "- To manipulate data in Python \n",
    "- To extract data from text files, perform fundamental analysis\n",
    "- To visualize data and results\n",
    "- Write a report of insights and findings\n",
    "\n",
    "Students must create a digital notebook to document ideas, notes, and findings of projects. \n",
    "\n"
   ]
  },
  {
   "cell_type": "markdown",
   "metadata": {},
   "source": [
    "## DATA SOURCES"
   ]
  },
  {
   "cell_type": "markdown",
   "metadata": {},
   "source": [
    "* [Kaggle datasets](https://www.kaggle.com/datasets)\n",
    "* [UCI](https://archive.ics.uci.edu/ml/datasets.php)"
   ]
  },
  {
   "cell_type": "markdown",
   "metadata": {},
   "source": [
    "## WIND PROJECT"
   ]
  },
  {
   "cell_type": "markdown",
   "metadata": {},
   "source": [
    "* [Texas Wind Turbine Dataset - Simulated](https://www.kaggle.com/datasets/pravdomirdobrev/texas-wind-turbine-dataset-simulated)\n",
    "* [Wind speed forecast datasets](https://www.kaggle.com/datasets/yingqizhu/wind-speed-forecast-datasets)"
   ]
  },
  {
   "cell_type": "markdown",
   "metadata": {},
   "source": [
    "#### read about the data then clearly define hypotheses and questions\n",
    "* Why is this an important problem? \n",
    "* What questions will this analysis answer?"
   ]
  },
  {
   "cell_type": "code",
   "execution_count": 2,
   "metadata": {},
   "outputs": [],
   "source": [
    "# load packages\n",
    "import numpy as np\n",
    "import pandas as pd\n",
    "%matplotlib inline\n",
    "import matplotlib.pyplot as plt\n",
    "import seaborn as sns"
   ]
  },
  {
   "cell_type": "markdown",
   "metadata": {},
   "source": [
    "#### read datasets \n",
    "download datasets from links and read into notebook."
   ]
  },
  {
   "cell_type": "code",
   "execution_count": 15,
   "metadata": {},
   "outputs": [],
   "source": [
    "path = 'C:/Users/etrao/Box/Teaching/2023 Summer/Quantitative Methods/'\n",
    "\n",
    "df1a = pd.read_csv(path + 'TexasTurbine.csv')\n",
    "df1b = pd.read_csv(path + 'GE Turbine Power Curve.csv')\n",
    "\n",
    "df2  = pd.read_csv(path + 'Wind speed dataset.csv')"
   ]
  },
  {
   "cell_type": "markdown",
   "metadata": {},
   "source": [
    "#### explore datasets - summary statistics\n",
    "learn about the data."
   ]
  },
  {
   "cell_type": "code",
   "execution_count": 21,
   "metadata": {},
   "outputs": [
    {
     "data": {
      "text/plain": [
       "(8760, 6)"
      ]
     },
     "execution_count": 21,
     "metadata": {},
     "output_type": "execute_result"
    }
   ],
   "source": [
    "df1a.shape"
   ]
  },
  {
   "cell_type": "code",
   "execution_count": 16,
   "metadata": {},
   "outputs": [
    {
     "data": {
      "text/html": [
       "<div>\n",
       "<style scoped>\n",
       "    .dataframe tbody tr th:only-of-type {\n",
       "        vertical-align: middle;\n",
       "    }\n",
       "\n",
       "    .dataframe tbody tr th {\n",
       "        vertical-align: top;\n",
       "    }\n",
       "\n",
       "    .dataframe thead th {\n",
       "        text-align: right;\n",
       "    }\n",
       "</style>\n",
       "<table border=\"1\" class=\"dataframe\">\n",
       "  <thead>\n",
       "    <tr style=\"text-align: right;\">\n",
       "      <th></th>\n",
       "      <th>Time stamp</th>\n",
       "      <th>System power generated | (kW)</th>\n",
       "      <th>Wind speed | (m/s)</th>\n",
       "      <th>Wind direction | (deg)</th>\n",
       "      <th>Pressure | (atm)</th>\n",
       "      <th>Air temperature | ('C)</th>\n",
       "    </tr>\n",
       "  </thead>\n",
       "  <tbody>\n",
       "    <tr>\n",
       "      <th>0</th>\n",
       "      <td>Jan 1, 12:00 am</td>\n",
       "      <td>1766.64</td>\n",
       "      <td>9.926</td>\n",
       "      <td>128</td>\n",
       "      <td>1.000480</td>\n",
       "      <td>18.263</td>\n",
       "    </tr>\n",
       "    <tr>\n",
       "      <th>1</th>\n",
       "      <td>Jan 1, 01:00 am</td>\n",
       "      <td>1433.83</td>\n",
       "      <td>9.273</td>\n",
       "      <td>135</td>\n",
       "      <td>0.999790</td>\n",
       "      <td>18.363</td>\n",
       "    </tr>\n",
       "    <tr>\n",
       "      <th>2</th>\n",
       "      <td>Jan 1, 02:00 am</td>\n",
       "      <td>1167.23</td>\n",
       "      <td>8.660</td>\n",
       "      <td>142</td>\n",
       "      <td>0.999592</td>\n",
       "      <td>18.663</td>\n",
       "    </tr>\n",
       "  </tbody>\n",
       "</table>\n",
       "</div>"
      ],
      "text/plain": [
       "        Time stamp  System power generated | (kW)  Wind speed | (m/s)  \\\n",
       "0  Jan 1, 12:00 am                        1766.64               9.926   \n",
       "1  Jan 1, 01:00 am                        1433.83               9.273   \n",
       "2  Jan 1, 02:00 am                        1167.23               8.660   \n",
       "\n",
       "   Wind direction | (deg)  Pressure | (atm)  Air temperature | ('C)  \n",
       "0                     128          1.000480                  18.263  \n",
       "1                     135          0.999790                  18.363  \n",
       "2                     142          0.999592                  18.663  "
      ]
     },
     "execution_count": 16,
     "metadata": {},
     "output_type": "execute_result"
    }
   ],
   "source": [
    "df1a.head(3)"
   ]
  },
  {
   "cell_type": "code",
   "execution_count": 18,
   "metadata": {},
   "outputs": [
    {
     "data": {
      "text/html": [
       "<div>\n",
       "<style scoped>\n",
       "    .dataframe tbody tr th:only-of-type {\n",
       "        vertical-align: middle;\n",
       "    }\n",
       "\n",
       "    .dataframe tbody tr th {\n",
       "        vertical-align: top;\n",
       "    }\n",
       "\n",
       "    .dataframe thead th {\n",
       "        text-align: right;\n",
       "    }\n",
       "</style>\n",
       "<table border=\"1\" class=\"dataframe\">\n",
       "  <thead>\n",
       "    <tr style=\"text-align: right;\">\n",
       "      <th></th>\n",
       "      <th>System power generated | (kW)</th>\n",
       "      <th>Wind speed | (m/s)</th>\n",
       "      <th>Wind direction | (deg)</th>\n",
       "      <th>Pressure | (atm)</th>\n",
       "      <th>Air temperature | ('C)</th>\n",
       "    </tr>\n",
       "  </thead>\n",
       "  <tbody>\n",
       "    <tr>\n",
       "      <th>count</th>\n",
       "      <td>8760.000000</td>\n",
       "      <td>8760.000000</td>\n",
       "      <td>8760.000000</td>\n",
       "      <td>8760.000000</td>\n",
       "      <td>8760.000000</td>\n",
       "    </tr>\n",
       "    <tr>\n",
       "      <th>mean</th>\n",
       "      <td>964.467934</td>\n",
       "      <td>7.376120</td>\n",
       "      <td>146.616210</td>\n",
       "      <td>0.992368</td>\n",
       "      <td>22.147298</td>\n",
       "    </tr>\n",
       "    <tr>\n",
       "      <th>std</th>\n",
       "      <td>878.558112</td>\n",
       "      <td>3.138291</td>\n",
       "      <td>84.678754</td>\n",
       "      <td>0.005332</td>\n",
       "      <td>4.855232</td>\n",
       "    </tr>\n",
       "    <tr>\n",
       "      <th>min</th>\n",
       "      <td>0.000000</td>\n",
       "      <td>0.119000</td>\n",
       "      <td>0.000000</td>\n",
       "      <td>0.974514</td>\n",
       "      <td>3.263000</td>\n",
       "    </tr>\n",
       "    <tr>\n",
       "      <th>25%</th>\n",
       "      <td>215.951500</td>\n",
       "      <td>5.121000</td>\n",
       "      <td>99.000000</td>\n",
       "      <td>0.988925</td>\n",
       "      <td>19.463000</td>\n",
       "    </tr>\n",
       "    <tr>\n",
       "      <th>50%</th>\n",
       "      <td>693.968500</td>\n",
       "      <td>7.340500</td>\n",
       "      <td>135.000000</td>\n",
       "      <td>0.991495</td>\n",
       "      <td>22.763000</td>\n",
       "    </tr>\n",
       "    <tr>\n",
       "      <th>75%</th>\n",
       "      <td>1562.287500</td>\n",
       "      <td>9.599000</td>\n",
       "      <td>169.000000</td>\n",
       "      <td>0.995045</td>\n",
       "      <td>26.063000</td>\n",
       "    </tr>\n",
       "    <tr>\n",
       "      <th>max</th>\n",
       "      <td>3004.010000</td>\n",
       "      <td>19.743000</td>\n",
       "      <td>360.000000</td>\n",
       "      <td>1.014510</td>\n",
       "      <td>32.963000</td>\n",
       "    </tr>\n",
       "  </tbody>\n",
       "</table>\n",
       "</div>"
      ],
      "text/plain": [
       "       System power generated | (kW)  Wind speed | (m/s)  \\\n",
       "count                    8760.000000         8760.000000   \n",
       "mean                      964.467934            7.376120   \n",
       "std                       878.558112            3.138291   \n",
       "min                         0.000000            0.119000   \n",
       "25%                       215.951500            5.121000   \n",
       "50%                       693.968500            7.340500   \n",
       "75%                      1562.287500            9.599000   \n",
       "max                      3004.010000           19.743000   \n",
       "\n",
       "       Wind direction | (deg)  Pressure | (atm)  Air temperature | ('C)  \n",
       "count             8760.000000       8760.000000             8760.000000  \n",
       "mean               146.616210          0.992368               22.147298  \n",
       "std                 84.678754          0.005332                4.855232  \n",
       "min                  0.000000          0.974514                3.263000  \n",
       "25%                 99.000000          0.988925               19.463000  \n",
       "50%                135.000000          0.991495               22.763000  \n",
       "75%                169.000000          0.995045               26.063000  \n",
       "max                360.000000          1.014510               32.963000  "
      ]
     },
     "execution_count": 18,
     "metadata": {},
     "output_type": "execute_result"
    }
   ],
   "source": [
    "df1a.describe()"
   ]
  },
  {
   "cell_type": "markdown",
   "metadata": {},
   "source": [
    "#### explore datasets - visualization\n",
    "explore patterns in the data via data visualization."
   ]
  },
  {
   "cell_type": "code",
   "execution_count": null,
   "metadata": {},
   "outputs": [],
   "source": []
  },
  {
   "cell_type": "markdown",
   "metadata": {},
   "source": [
    "#### clean datasets\n",
    "prepare data for analysis by removing or modifying data that is incorrect, incomplete, irrelevant, duplicated, or improperly formatted, potentially combine datasets, potentially engineer new features."
   ]
  },
  {
   "cell_type": "code",
   "execution_count": null,
   "metadata": {},
   "outputs": [],
   "source": []
  },
  {
   "cell_type": "markdown",
   "metadata": {},
   "source": [
    "#### analyze datasets / test hypotheses / make associations / make predictions\n",
    "answer questions about the data via analysis and hypothesis testing."
   ]
  },
  {
   "cell_type": "code",
   "execution_count": null,
   "metadata": {},
   "outputs": [],
   "source": []
  },
  {
   "cell_type": "markdown",
   "metadata": {},
   "source": [
    "#### compute metrics and results\n",
    "define and compute metrics that will help make conclusions amd answer questions."
   ]
  },
  {
   "cell_type": "code",
   "execution_count": null,
   "metadata": {},
   "outputs": [],
   "source": []
  },
  {
   "cell_type": "markdown",
   "metadata": {},
   "source": [
    "#### draw conclusions\n",
    "what did you find?"
   ]
  },
  {
   "cell_type": "code",
   "execution_count": null,
   "metadata": {},
   "outputs": [],
   "source": []
  }
 ],
 "metadata": {
  "kernelspec": {
   "display_name": "Python 3",
   "language": "python",
   "name": "python3"
  },
  "language_info": {
   "codemirror_mode": {
    "name": "ipython",
    "version": 3
   },
   "file_extension": ".py",
   "mimetype": "text/x-python",
   "name": "python",
   "nbconvert_exporter": "python",
   "pygments_lexer": "ipython3",
   "version": "3.8.3"
  }
 },
 "nbformat": 4,
 "nbformat_minor": 4
}
